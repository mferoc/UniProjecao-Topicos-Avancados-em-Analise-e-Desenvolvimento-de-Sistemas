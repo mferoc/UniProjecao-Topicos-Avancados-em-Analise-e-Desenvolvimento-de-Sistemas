{
 "cells": [
  {
   "cell_type": "code",
   "execution_count": 2,
   "metadata": {},
   "outputs": [
    {
     "name": "stdout",
     "output_type": "stream",
     "text": [
      "[1.5 2.5 3.5 4.5]\n"
     ]
    }
   ],
   "source": [
    "import numpy as np\n",
    "\n",
    "minhaLista = [3, 5, 7, 9]\n",
    "meuArray = np.array(minhaLista)\n",
    "print(meuArray/2)\n"
   ]
  },
  {
   "cell_type": "code",
   "execution_count": 3,
   "metadata": {},
   "outputs": [
    {
     "name": "stdout",
     "output_type": "stream",
     "text": [
      "dados\n",
      "[3, 5, 7, 9]\n",
      "array\n",
      "[3 5 7 9]\n",
      "arranjo\n",
      "[0 1 2 3 4 5 6 7 8 9]\n",
      "uns\n",
      "[[1. 1.]\n",
      " [1. 1.]]\n",
      "zeros\n",
      "[0. 0. 0. 0. 0. 0. 0. 0. 0. 0.]\n",
      "zeros2\n",
      "[[0. 0. 0.]\n",
      " [0. 0. 0.]]\n",
      "vazios\n",
      "[[0. 0. 0.]\n",
      " [0. 0. 0.]]\n"
     ]
    }
   ],
   "source": [
    "import numpy as np\n",
    "\n",
    "dados = [3, 5, 7, 9]\n",
    "array = np.array(dados)\n",
    "print(\"dados\")\n",
    "print(dados)\n",
    "print(\"array\")\n",
    "print(array)\n",
    "arranjo = np.arange(10)\n",
    "print(\"arranjo\")\n",
    "print(arranjo)\n",
    "uns = np.ones((2, 2))\n",
    "print(\"uns\")\n",
    "print(uns)\n",
    "zeros = np.zeros(10)\n",
    "print(\"zeros\")\n",
    "print(zeros)\n",
    "zeros2 = np.zeros((2, 3))\n",
    "print(\"zeros2\")\n",
    "print(zeros2)\n",
    "vazios = np.empty((2, 3))\n",
    "print(\"vazios\")\n",
    "print(vazios)\n"
   ]
  },
  {
   "cell_type": "code",
   "execution_count": 5,
   "metadata": {},
   "outputs": [
    {
     "name": "stdout",
     "output_type": "stream",
     "text": [
      "array1\n",
      "[[1 2 3]\n",
      " [4 5 6]]\n",
      "a2\n",
      "[[1. 1. 1.]\n",
      " [1. 1. 1.]]\n",
      "a1+a2\n",
      "[[2. 3. 4.]\n",
      " [5. 6. 7.]]\n",
      "a1 * 2\n",
      "[[ 2  4  6]\n",
      " [ 8 10 12]]\n",
      "a1 ^ 2\n",
      "[[ 1  4  9]\n",
      " [16 25 36]]\n",
      "a1 - a1\n",
      "[[0 0 0]\n",
      " [0 0 0]]\n"
     ]
    }
   ],
   "source": [
    "a1 = np.array([[1, 2, 3], [4, 5, 6]])\n",
    "print(\"array1\")\n",
    "print(a1)\n",
    "a2 = np.ones((2, 3))\n",
    "print(\"a2\")\n",
    "print(a2)\n",
    "print(\"a1+a2\")\n",
    "print(a1 + a2)\n",
    "print(\"a1 * 2\")\n",
    "print(a1 * 2)\n",
    "print(\"a1 ^ 2\")\n",
    "print(a1 ** 2)\n",
    "print(\"a1 - a1\")\n",
    "print(a1 - a1)\n"
   ]
  },
  {
   "cell_type": "code",
   "execution_count": 6,
   "metadata": {},
   "outputs": [
    {
     "name": "stdout",
     "output_type": "stream",
     "text": [
      "[3 4 5 7]\n",
      "parte do array\n",
      "[4 5]\n",
      "modificando parte do array\n",
      "[ 4 23]\n",
      "voltando ao array original\n",
      "[3, 4, 5, 7]\n"
     ]
    }
   ],
   "source": [
    "# outras operacoes com array\n",
    "\n",
    "minhaLista = [3, 4, 5, 7]\n",
    "meuArray = np.array(minhaLista)\n",
    "print(meuArray)\n",
    "pedacoArray = meuArray[1:3]\n",
    "print(\"parte do array\")\n",
    "print(pedacoArray)\n",
    "print(\"modificando parte do array\")\n",
    "pedacoArray[1] = 23\n",
    "print(pedacoArray)\n",
    "print(\"voltando ao array original\")\n",
    "print(minhaLista)\n"
   ]
  },
  {
   "cell_type": "code",
   "execution_count": 7,
   "metadata": {},
   "outputs": [
    {
     "name": "stdout",
     "output_type": "stream",
     "text": [
      "[[[ 1  2  3]\n",
      "  [ 4  5  6]\n",
      "  [ 7  8  9]\n",
      "  [10 11 12]]]\n",
      "primeiro array\n",
      "[[ 1  2  3]\n",
      " [ 4  5  6]\n",
      " [ 7  8  9]\n",
      " [10 11 12]]\n",
      "copiando os dados do primeiro array\n",
      "[[ 1  2  3]\n",
      " [ 4  5  6]\n",
      " [ 7  8  9]\n",
      " [10 11 12]]\n",
      "mudando o valor do primeiro array\n",
      "[[25 25 25]\n",
      " [25 25 25]\n",
      " [25 25 25]\n",
      " [25 25 25]]\n",
      "voltando o valor do primeiro array\n",
      "[[ 1  2  3]\n",
      " [ 4  5  6]\n",
      " [ 7  8  9]\n",
      " [10 11 12]]\n"
     ]
    }
   ],
   "source": [
    "# arrays de 3 dimensoes\n",
    "\n",
    "array3d = np.array([[[1, 2, 3], [4, 5, 6], [7, 8, 9], [10, 11, 12]]])\n",
    "\n",
    "print(array3d)\n",
    "print(\"primeiro array\")\n",
    "print(array3d[0])\n",
    "print(\"copiando os dados do primeiro array\")\n",
    "old_values = array3d[0].copy()\n",
    "print(old_values)\n",
    "print(\"mudando o valor do primeiro array\")\n",
    "array3d[0] = 25\n",
    "print(array3d[0])\n",
    "print(\"voltando o valor do primeiro array\")\n",
    "array3d[0] = old_values\n",
    "print(array3d[0])\n"
   ]
  },
  {
   "cell_type": "code",
   "execution_count": null,
   "metadata": {},
   "outputs": [],
   "source": []
  }
 ],
 "metadata": {
  "kernelspec": {
   "display_name": "Python 3",
   "language": "python",
   "name": "python3"
  },
  "language_info": {
   "codemirror_mode": {
    "name": "ipython",
    "version": 3
   },
   "file_extension": ".py",
   "mimetype": "text/x-python",
   "name": "python",
   "nbconvert_exporter": "python",
   "pygments_lexer": "ipython3",
   "version": "3.7.3"
  }
 },
 "nbformat": 4,
 "nbformat_minor": 2
}
