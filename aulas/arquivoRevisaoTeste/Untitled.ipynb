{
 "cells": [
  {
   "cell_type": "code",
   "execution_count": 1,
   "metadata": {},
   "outputs": [
    {
     "name": "stdout",
     "output_type": "stream",
     "text": [
      "Abrindo um arquivo\n"
     ]
    }
   ],
   "source": [
    "\n",
    "# abrindo um arquivo\n",
    "# usando o open()\n",
    "print(\"Abrindo um arquivo\")\n",
    "arquivo = open(\"arquivo.txt\", \"r\")\n"
   ]
  },
  {
   "cell_type": "code",
   "execution_count": null,
   "metadata": {},
   "outputs": [],
   "source": [
    "#arquivo = open(\"arquivo.txt\", \"w\") #abre o arquivo porém apaga o conteudo\n",
    "#a Abre arquivo para adicionar conteudo\n",
    "#x Cria um arquivo"
   ]
  },
  {
   "cell_type": "code",
   "execution_count": 2,
   "metadata": {},
   "outputs": [
    {
     "name": "stdout",
     "output_type": "stream",
     "text": [
      "flash\n",
      "batman\n",
      "superman\n"
     ]
    }
   ],
   "source": [
    "#usando o read()\n",
    "print(arquivo.read())"
   ]
  },
  {
   "cell_type": "code",
   "execution_count": 9,
   "metadata": {},
   "outputs": [
    {
     "name": "stdout",
     "output_type": "stream",
     "text": [
      "flash\n",
      "\n"
     ]
    }
   ],
   "source": [
    "#ler apenas uma linha do arquivo\n",
    "#usa - se o readline()\n",
    "arquivo = open(\"arquivo.txt\")\n",
    "print(arquivo.readline())"
   ]
  },
  {
   "cell_type": "code",
   "execution_count": 11,
   "metadata": {},
   "outputs": [
    {
     "name": "stdout",
     "output_type": "stream",
     "text": [
      "flash\n",
      "\n",
      "batman\n",
      "\n"
     ]
    }
   ],
   "source": [
    "#ir lendo arquivo linha por linha\n",
    "arquivo = open(\"arquivo.txt\")\n",
    "print(arquivo.readline())\n",
    "print(arquivo.readline())\n"
   ]
  },
  {
   "cell_type": "code",
   "execution_count": 12,
   "metadata": {},
   "outputs": [
    {
     "name": "stdout",
     "output_type": "stream",
     "text": [
      "flash\n",
      "\n",
      "batman\n",
      "\n",
      "superman\n"
     ]
    }
   ],
   "source": [
    "#lendo linha por linda de arquivo usando for\n",
    "arquivo = open(\"arquivo.txt\", \"r\")\n",
    "for i in arquivo:\n",
    "    print(i)\n"
   ]
  },
  {
   "cell_type": "code",
   "execution_count": null,
   "metadata": {},
   "outputs": [],
   "source": [
    "arquivo = open(\"arquivo.txt\", \"w\") #abre arquivo e deixa em branco\n",
    "#escrevendo no arquivo com write\n",
    "arquivo.write(\"Novo Heroi\")\n",
    "#fechando o arquivo\n",
    "arquivo.close()\n"
   ]
  },
  {
   "cell_type": "code",
   "execution_count": 14,
   "metadata": {},
   "outputs": [
    {
     "name": "stdout",
     "output_type": "stream",
     "text": [
      "flash\n",
      "batman\n",
      "supermanCyborg\n"
     ]
    }
   ],
   "source": [
    "#usando o a\n",
    "#manipula o arquivo adicionando uma nova linha ao inves de apaga-lo\n",
    "#arquivo = open(\"arquivo.txt\", \"a\")\n",
    "#arquivo.write(\"Cyborg\")\n",
    "arquivo = open(\"arquivo.txt\", \"r\")\n",
    "print(arquivo.read())\n",
    "arquivo.close()\n"
   ]
  },
  {
   "cell_type": "code",
   "execution_count": 15,
   "metadata": {},
   "outputs": [
    {
     "name": "stdout",
     "output_type": "stream",
     "text": [
      "['Paris', 'Vale do Silicio', 'Amsterdã']\n"
     ]
    }
   ],
   "source": [
    "lugares = [\"Paris\", \"Vale do Silicio\", \"Amsterdã\"]\n",
    "print(lugares)"
   ]
  },
  {
   "cell_type": "code",
   "execution_count": null,
   "metadata": {},
   "outputs": [],
   "source": []
  }
 ],
 "metadata": {
  "kernelspec": {
   "display_name": "Python 3",
   "language": "python",
   "name": "python3"
  },
  "language_info": {
   "codemirror_mode": {
    "name": "ipython",
    "version": 3
   },
   "file_extension": ".py",
   "mimetype": "text/x-python",
   "name": "python",
   "nbconvert_exporter": "python",
   "pygments_lexer": "ipython3",
   "version": "3.7.3"
  }
 },
 "nbformat": 4,
 "nbformat_minor": 2
}
