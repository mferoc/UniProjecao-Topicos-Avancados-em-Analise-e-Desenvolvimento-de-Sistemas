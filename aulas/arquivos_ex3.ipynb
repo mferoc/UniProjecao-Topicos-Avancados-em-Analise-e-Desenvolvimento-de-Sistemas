{
 "cells": [
  {
   "cell_type": "code",
   "execution_count": 3,
   "metadata": {},
   "outputs": [
    {
     "name": "stdout",
     "output_type": "stream",
     "text": [
      "ACME Inc.               Uso do espaço em disco pelos usuários.\n",
      "--------------------------------------------------------------\n",
      "Nr.\tUsuário        \tEspaço utilizado\t% do uso\n",
      "\n",
      "1\talexandre      \t434.99          MB\t16.85%\n",
      "2\tanderson       \t1187.99         MB\t46.02%\n",
      "3\tantonio        \t117.74          MB\t4.56%\n",
      "4\tcarlos         \t87.03           MB\t3.37%\n",
      "5\tcesar          \t0.94            MB\t0.04%\n",
      "6\trosemary       \t752.88          MB\t29.16%\n",
      "\n",
      "\n",
      "Espaço Total Ocupado: 2581.58 MB\n",
      "\n",
      "Espaço médio Ocupado: 430.26 MB\n"
     ]
    }
   ],
   "source": [
    "def toMB(tamanhoEmBytes):\n",
    "   tamanhoEmBytes = float(tamanhoEmBytes)\n",
    "   return (float(tamanhoEmBytes/(1024*1024)))\n",
    "   \n",
    "def percentualPorUsuario(lista, total):\n",
    "   percentual = (lista[3]/total)*100\n",
    "   #percentual = \"{0:.2f}\".format(percentual)\n",
    "   lista.insert((len(cadaUsuario)),percentual)\n",
    "\n",
    "def espacoMedioOcupado(lista, total):\n",
    "   media = 0\n",
    "   elementos = len(lista)\n",
    "   media = (total)/(elementos+1)\n",
    "   #media = \"{0:.2f}\".format(media)\n",
    "   return media\n",
    "\n",
    "#MAIN\n",
    "usuarios = []\n",
    "posicao = 1\n",
    "total = media = 0\n",
    "with open (\"usuarios.txt\",\"r\") as arquivo:\n",
    "   valor = 0\n",
    "   for linha in arquivo:\n",
    "      usuarios.append(linha.split()) \n",
    "\n",
    "   for cadaUsuario in usuarios:\n",
    "      cadaUsuario.insert(0,posicao)\n",
    "      valor = toMB(float(cadaUsuario[2]))\n",
    "      total += valor\n",
    "      cadaUsuario.insert((len(cadaUsuario)),valor)\n",
    "      posicao+=1\n",
    "\n",
    "   for cadaUsuario in usuarios:\n",
    "      percentualPorUsuario(cadaUsuario, total)\n",
    "\n",
    "media = espacoMedioOcupado(cadaUsuario,total)\n",
    "\n",
    "with open (\"relatorio.txt\",\"w\") as arquivo:\n",
    "   arquivo.write(\"ACME Inc.               Uso do espaço em disco pelos usuários.\\n\")\n",
    "   arquivo.write(\"--------------------------------------------------------------\\n\")\n",
    "   arquivo.write(\"Nr.\\tUsuário        \\tEspaço utilizado\\t% do uso\\n\\n\")\n",
    "\n",
    "   for cadaUsuario in usuarios:\n",
    "      percentagem=\"{0:.2f}\".format(round(cadaUsuario[3],2))\n",
    "      arquivo.write(str(cadaUsuario[0])+'\\t'+\"{:<15}\".format(cadaUsuario[1])+'\\t'+\"{:<16}\".format(percentagem)+'MB'+'\\t'+\"{0:.2f}\".format(cadaUsuario[4])+'%'+'\\n')\n",
    "\n",
    "   arquivo.write('\\n\\nEspaço Total Ocupado: ' + \"{0:.2f}\".format(total) + ' MB')\n",
    "   arquivo.write('\\n\\nEspaço médio Ocupado: ' + \"{0:.2f}\".format(media) + ' MB')\n",
    "   arquivo.close()\n",
    "\n",
    "with open (\"relatorio.txt\",\"r\") as arquivo:\n",
    "    print(arquivo.read())\n",
    "    "
   ]
  },
  {
   "cell_type": "code",
   "execution_count": null,
   "metadata": {},
   "outputs": [],
   "source": []
  }
 ],
 "metadata": {
  "kernelspec": {
   "display_name": "Python 3",
   "language": "python",
   "name": "python3"
  },
  "language_info": {
   "codemirror_mode": {
    "name": "ipython",
    "version": 3
   },
   "file_extension": ".py",
   "mimetype": "text/x-python",
   "name": "python",
   "nbconvert_exporter": "python",
   "pygments_lexer": "ipython3",
   "version": "3.7.3"
  }
 },
 "nbformat": 4,
 "nbformat_minor": 2
}
