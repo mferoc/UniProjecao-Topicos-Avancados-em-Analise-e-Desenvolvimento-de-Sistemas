{
 "cells": [
  {
   "cell_type": "code",
   "execution_count": 1,
   "metadata": {},
   "outputs": [],
   "source": [
    "#ARQUIVOS\n",
    "#Abrindo um arquivo:\n",
    "arquivo = open(\"test.txt\", \"r\")"
   ]
  },
  {
   "cell_type": "code",
   "execution_count": 6,
   "metadata": {},
   "outputs": [
    {
     "name": "stdout",
     "output_type": "stream",
     "text": [
      "YES\n"
     ]
    }
   ],
   "source": [
    "#Simulando um NULL em python\n",
    "if arquivo != None:\n",
    "    print(\"YES\")"
   ]
  },
  {
   "cell_type": "code",
   "execution_count": 7,
   "metadata": {},
   "outputs": [],
   "source": [
    "#Abrindo o arquivo para escrita, apaga informacoes do arquivo\n",
    "arquivo = open(\"test.txt\", \"w\")"
   ]
  },
  {
   "cell_type": "code",
   "execution_count": 3,
   "metadata": {},
   "outputs": [
    {
     "name": "stdout",
     "output_type": "stream",
     "text": [
      "Batman\n",
      "Superman\n",
      "Flash\n"
     ]
    }
   ],
   "source": [
    "#Lendo um arquivo e mostrando informalcoes do arquivo na tela\n",
    "arquivo = open(\"test.txt\", \"r\")\n",
    "print(arquivo.read())"
   ]
  },
  {
   "cell_type": "code",
   "execution_count": 4,
   "metadata": {},
   "outputs": [
    {
     "name": "stdout",
     "output_type": "stream",
     "text": [
      "Batman\n",
      "\n"
     ]
    }
   ],
   "source": [
    "#Lendo uma linha especifica do arquivo\n",
    "arquivo = open(\"test.txt\", \"r\")\n",
    "print(arquivo.readline())"
   ]
  },
  {
   "cell_type": "code",
   "execution_count": 6,
   "metadata": {},
   "outputs": [
    {
     "name": "stdout",
     "output_type": "stream",
     "text": [
      "Flash\n"
     ]
    }
   ],
   "source": [
    "arquivo = open(\"test.txt\", \"r\")\n",
    "print(arquivo.readlines()[2])"
   ]
  },
  {
   "cell_type": "code",
   "execution_count": 8,
   "metadata": {},
   "outputs": [
    {
     "name": "stdout",
     "output_type": "stream",
     "text": [
      "Batman\n",
      "Superman\n",
      "FlashArcherArcher\n"
     ]
    }
   ],
   "source": [
    "arquivo = open(\"test.txt\", \"a\")\n",
    "arquivo.write(\"Archer\")\n",
    "arquivo = open(\"test.txt\", \"r\")\n",
    "print(arquivo.read())"
   ]
  },
  {
   "cell_type": "code",
   "execution_count": null,
   "metadata": {},
   "outputs": [],
   "source": []
  }
 ],
 "metadata": {
  "kernelspec": {
   "display_name": "Python 3",
   "language": "python",
   "name": "python3"
  },
  "language_info": {
   "codemirror_mode": {
    "name": "ipython",
    "version": 3
   },
   "file_extension": ".py",
   "mimetype": "text/x-python",
   "name": "python",
   "nbconvert_exporter": "python",
   "pygments_lexer": "ipython3",
   "version": "3.7.3"
  }
 },
 "nbformat": 4,
 "nbformat_minor": 2
}
